{
 "cells": [
  {
   "cell_type": "code",
   "execution_count": 3,
   "id": "201aa855",
   "metadata": {},
   "outputs": [],
   "source": [
    "##I want to analyze the impact of grade level, year, and race predict how well people do on the Newyork math exam. \n",
    "##Data Source: Catalog.Data.Gov, public data set for the city of Newyork"
   ]
  },
  {
   "cell_type": "code",
   "execution_count": 5,
   "id": "7b6291ef",
   "metadata": {
    "scrolled": false
   },
   "outputs": [
    {
     "name": "stdout",
     "output_type": "stream",
     "text": [
      "          DBN       Grade  Year  Category Number_Tested Mean_Scale_Score  \\\n",
      "1      01M015           3  2006     Asian             3              NaN   \n",
      "2      01M015           3  2006     Black            12              662   \n",
      "3      01M015           3  2006  Hispanic            24              670   \n",
      "4      01M015           3  2007     Asian             3              NaN   \n",
      "5      01M015           3  2007     Black             4              NaN   \n",
      "...       ...         ...   ...       ...           ...              ...   \n",
      "99417  75X723  All Grades  2010     White             7              NaN   \n",
      "99418  75X186  All Grades  2011     White             2              NaN   \n",
      "99419  75X188  All Grades  2011     White             1              NaN   \n",
      "99420  75X352  All Grades  2011     White             2              NaN   \n",
      "99421  75X723  All Grades  2011     White             6            613.0   \n",
      "\n",
      "      Level_1 Level_1_% Level_2 Level_2_% Level_3 Level_3_% Level_4 Level_4_%  \\\n",
      "1           s       NaN       s       NaN       s       NaN       s       NaN   \n",
      "2           0         0       3        25       9        75       0         0   \n",
      "3           1       4.2       8      33.3      10      41.7       5      20.8   \n",
      "4           s       NaN       s       NaN       s       NaN       s       NaN   \n",
      "5           s       NaN       s       NaN       s       NaN       s       NaN   \n",
      "...       ...       ...     ...       ...     ...       ...     ...       ...   \n",
      "99417       4      57.1       1      14.3       2      28.6       0       0.0   \n",
      "99418       s       NaN       s       NaN       s       NaN       s       NaN   \n",
      "99419       s       NaN       s       NaN       s       NaN       s       NaN   \n",
      "99420       s       NaN       s       NaN       s       NaN       s       NaN   \n",
      "99421       4      66.7       2      33.3       0       0.0       0       0.0   \n",
      "\n",
      "      Level_3+4 Level_3+4_% Asian Hispanic Black White  \n",
      "1             s         NaN     1        0     0     0  \n",
      "2             9          75     0        0     1     0  \n",
      "3            15        62.5     0        1     0     0  \n",
      "4             s         NaN     1        0     0     0  \n",
      "5             s         NaN     0        0     1     0  \n",
      "...         ...         ...   ...      ...   ...   ...  \n",
      "99417         2        28.6     0        0     0     1  \n",
      "99418         s         NaN     0        0     0     1  \n",
      "99419         s         NaN     0        0     0     1  \n",
      "99420         s         NaN     0        0     0     1  \n",
      "99421         0         0.0     0        0     0     1  \n",
      "\n",
      "[99421 rows x 20 columns]\n"
     ]
    },
    {
     "name": "stderr",
     "output_type": "stream",
     "text": [
      "C:\\Users\\Barb\\AppData\\Local\\Temp\\ipykernel_11348\\2317052728.py:5: DtypeWarning: Columns (2,4,5,7,9,11,13,15,16,17,18,19) have mixed types. Specify dtype option on import or set low_memory=False.\n",
      "  df = pd.read_csv(r'C:\\Users\\Barb\\NYSMathTestResults.csv', names=[\"DBN\",\"Grade\",\"Year\",\"Category\",\"Number_Tested\",\n"
     ]
    }
   ],
   "source": [
    "import pandas as pd\n",
    "import matplotlib.pyplot as plt\n",
    "import numpy as np\n",
    "from sklearn.linear_model import LinearRegression\n",
    "df = pd.read_csv(r'C:\\Users\\Barb\\NYSMathTestResults.csv', names=[\"DBN\",\"Grade\",\"Year\",\"Category\",\"Number_Tested\",\n",
    "\"Mean_Scale_Score\", \"Level_1\", \"Level_1_%\", \"Level_2\", \"Level_2_%\", \"Level_3\", \"Level_3_%\", \"Level_4\", \"Level_4_%\", \"Level_3+4\", \"Level_3+4_%\", \"Asian\", \"Hispanic\", \"Black\", \"White\" ])\n",
    "df = df.iloc[1:,:]\n",
    "print(df)"
   ]
  },
  {
   "cell_type": "code",
   "execution_count": 7,
   "id": "b88d3aec",
   "metadata": {},
   "outputs": [
    {
     "data": {
      "text/html": [
       "<div>\n",
       "<style scoped>\n",
       "    .dataframe tbody tr th:only-of-type {\n",
       "        vertical-align: middle;\n",
       "    }\n",
       "\n",
       "    .dataframe tbody tr th {\n",
       "        vertical-align: top;\n",
       "    }\n",
       "\n",
       "    .dataframe thead th {\n",
       "        text-align: right;\n",
       "    }\n",
       "</style>\n",
       "<table border=\"1\" class=\"dataframe\">\n",
       "  <thead>\n",
       "    <tr style=\"text-align: right;\">\n",
       "      <th></th>\n",
       "      <th>DBN</th>\n",
       "      <th>Grade</th>\n",
       "      <th>Year</th>\n",
       "      <th>Category</th>\n",
       "      <th>Number_Tested</th>\n",
       "      <th>Mean_Scale_Score</th>\n",
       "      <th>Level_1</th>\n",
       "      <th>Level_1_%</th>\n",
       "      <th>Level_2</th>\n",
       "      <th>Level_2_%</th>\n",
       "      <th>Level_3</th>\n",
       "      <th>Level_3_%</th>\n",
       "      <th>Level_4</th>\n",
       "      <th>Level_4_%</th>\n",
       "      <th>Level_3+4</th>\n",
       "      <th>Level_3+4_%</th>\n",
       "      <th>Asian</th>\n",
       "      <th>Hispanic</th>\n",
       "      <th>Black</th>\n",
       "      <th>White</th>\n",
       "    </tr>\n",
       "  </thead>\n",
       "  <tbody>\n",
       "    <tr>\n",
       "      <th>1</th>\n",
       "      <td>01M015</td>\n",
       "      <td>3</td>\n",
       "      <td>2006</td>\n",
       "      <td>Asian</td>\n",
       "      <td>3</td>\n",
       "      <td>NaN</td>\n",
       "      <td>s</td>\n",
       "      <td>NaN</td>\n",
       "      <td>s</td>\n",
       "      <td>NaN</td>\n",
       "      <td>s</td>\n",
       "      <td>NaN</td>\n",
       "      <td>s</td>\n",
       "      <td>NaN</td>\n",
       "      <td>s</td>\n",
       "      <td>NaN</td>\n",
       "      <td>1</td>\n",
       "      <td>0</td>\n",
       "      <td>0</td>\n",
       "      <td>0</td>\n",
       "    </tr>\n",
       "    <tr>\n",
       "      <th>2</th>\n",
       "      <td>01M015</td>\n",
       "      <td>3</td>\n",
       "      <td>2006</td>\n",
       "      <td>Black</td>\n",
       "      <td>12</td>\n",
       "      <td>662</td>\n",
       "      <td>0</td>\n",
       "      <td>0</td>\n",
       "      <td>3</td>\n",
       "      <td>25</td>\n",
       "      <td>9</td>\n",
       "      <td>75</td>\n",
       "      <td>0</td>\n",
       "      <td>0</td>\n",
       "      <td>9</td>\n",
       "      <td>75</td>\n",
       "      <td>0</td>\n",
       "      <td>0</td>\n",
       "      <td>1</td>\n",
       "      <td>0</td>\n",
       "    </tr>\n",
       "    <tr>\n",
       "      <th>3</th>\n",
       "      <td>01M015</td>\n",
       "      <td>3</td>\n",
       "      <td>2006</td>\n",
       "      <td>Hispanic</td>\n",
       "      <td>24</td>\n",
       "      <td>670</td>\n",
       "      <td>1</td>\n",
       "      <td>4.2</td>\n",
       "      <td>8</td>\n",
       "      <td>33.3</td>\n",
       "      <td>10</td>\n",
       "      <td>41.7</td>\n",
       "      <td>5</td>\n",
       "      <td>20.8</td>\n",
       "      <td>15</td>\n",
       "      <td>62.5</td>\n",
       "      <td>0</td>\n",
       "      <td>1</td>\n",
       "      <td>0</td>\n",
       "      <td>0</td>\n",
       "    </tr>\n",
       "    <tr>\n",
       "      <th>4</th>\n",
       "      <td>01M015</td>\n",
       "      <td>3</td>\n",
       "      <td>2007</td>\n",
       "      <td>Asian</td>\n",
       "      <td>3</td>\n",
       "      <td>NaN</td>\n",
       "      <td>s</td>\n",
       "      <td>NaN</td>\n",
       "      <td>s</td>\n",
       "      <td>NaN</td>\n",
       "      <td>s</td>\n",
       "      <td>NaN</td>\n",
       "      <td>s</td>\n",
       "      <td>NaN</td>\n",
       "      <td>s</td>\n",
       "      <td>NaN</td>\n",
       "      <td>1</td>\n",
       "      <td>0</td>\n",
       "      <td>0</td>\n",
       "      <td>0</td>\n",
       "    </tr>\n",
       "    <tr>\n",
       "      <th>5</th>\n",
       "      <td>01M015</td>\n",
       "      <td>3</td>\n",
       "      <td>2007</td>\n",
       "      <td>Black</td>\n",
       "      <td>4</td>\n",
       "      <td>NaN</td>\n",
       "      <td>s</td>\n",
       "      <td>NaN</td>\n",
       "      <td>s</td>\n",
       "      <td>NaN</td>\n",
       "      <td>s</td>\n",
       "      <td>NaN</td>\n",
       "      <td>s</td>\n",
       "      <td>NaN</td>\n",
       "      <td>s</td>\n",
       "      <td>NaN</td>\n",
       "      <td>0</td>\n",
       "      <td>0</td>\n",
       "      <td>1</td>\n",
       "      <td>0</td>\n",
       "    </tr>\n",
       "    <tr>\n",
       "      <th>...</th>\n",
       "      <td>...</td>\n",
       "      <td>...</td>\n",
       "      <td>...</td>\n",
       "      <td>...</td>\n",
       "      <td>...</td>\n",
       "      <td>...</td>\n",
       "      <td>...</td>\n",
       "      <td>...</td>\n",
       "      <td>...</td>\n",
       "      <td>...</td>\n",
       "      <td>...</td>\n",
       "      <td>...</td>\n",
       "      <td>...</td>\n",
       "      <td>...</td>\n",
       "      <td>...</td>\n",
       "      <td>...</td>\n",
       "      <td>...</td>\n",
       "      <td>...</td>\n",
       "      <td>...</td>\n",
       "      <td>...</td>\n",
       "    </tr>\n",
       "    <tr>\n",
       "      <th>99417</th>\n",
       "      <td>75X723</td>\n",
       "      <td>All Grades</td>\n",
       "      <td>2010</td>\n",
       "      <td>White</td>\n",
       "      <td>7</td>\n",
       "      <td>NaN</td>\n",
       "      <td>4</td>\n",
       "      <td>57.1</td>\n",
       "      <td>1</td>\n",
       "      <td>14.3</td>\n",
       "      <td>2</td>\n",
       "      <td>28.6</td>\n",
       "      <td>0</td>\n",
       "      <td>0.0</td>\n",
       "      <td>2</td>\n",
       "      <td>28.6</td>\n",
       "      <td>0</td>\n",
       "      <td>0</td>\n",
       "      <td>0</td>\n",
       "      <td>1</td>\n",
       "    </tr>\n",
       "    <tr>\n",
       "      <th>99418</th>\n",
       "      <td>75X186</td>\n",
       "      <td>All Grades</td>\n",
       "      <td>2011</td>\n",
       "      <td>White</td>\n",
       "      <td>2</td>\n",
       "      <td>NaN</td>\n",
       "      <td>s</td>\n",
       "      <td>NaN</td>\n",
       "      <td>s</td>\n",
       "      <td>NaN</td>\n",
       "      <td>s</td>\n",
       "      <td>NaN</td>\n",
       "      <td>s</td>\n",
       "      <td>NaN</td>\n",
       "      <td>s</td>\n",
       "      <td>NaN</td>\n",
       "      <td>0</td>\n",
       "      <td>0</td>\n",
       "      <td>0</td>\n",
       "      <td>1</td>\n",
       "    </tr>\n",
       "    <tr>\n",
       "      <th>99419</th>\n",
       "      <td>75X188</td>\n",
       "      <td>All Grades</td>\n",
       "      <td>2011</td>\n",
       "      <td>White</td>\n",
       "      <td>1</td>\n",
       "      <td>NaN</td>\n",
       "      <td>s</td>\n",
       "      <td>NaN</td>\n",
       "      <td>s</td>\n",
       "      <td>NaN</td>\n",
       "      <td>s</td>\n",
       "      <td>NaN</td>\n",
       "      <td>s</td>\n",
       "      <td>NaN</td>\n",
       "      <td>s</td>\n",
       "      <td>NaN</td>\n",
       "      <td>0</td>\n",
       "      <td>0</td>\n",
       "      <td>0</td>\n",
       "      <td>1</td>\n",
       "    </tr>\n",
       "    <tr>\n",
       "      <th>99420</th>\n",
       "      <td>75X352</td>\n",
       "      <td>All Grades</td>\n",
       "      <td>2011</td>\n",
       "      <td>White</td>\n",
       "      <td>2</td>\n",
       "      <td>NaN</td>\n",
       "      <td>s</td>\n",
       "      <td>NaN</td>\n",
       "      <td>s</td>\n",
       "      <td>NaN</td>\n",
       "      <td>s</td>\n",
       "      <td>NaN</td>\n",
       "      <td>s</td>\n",
       "      <td>NaN</td>\n",
       "      <td>s</td>\n",
       "      <td>NaN</td>\n",
       "      <td>0</td>\n",
       "      <td>0</td>\n",
       "      <td>0</td>\n",
       "      <td>1</td>\n",
       "    </tr>\n",
       "    <tr>\n",
       "      <th>99421</th>\n",
       "      <td>75X723</td>\n",
       "      <td>All Grades</td>\n",
       "      <td>2011</td>\n",
       "      <td>White</td>\n",
       "      <td>6</td>\n",
       "      <td>613.0</td>\n",
       "      <td>4</td>\n",
       "      <td>66.7</td>\n",
       "      <td>2</td>\n",
       "      <td>33.3</td>\n",
       "      <td>0</td>\n",
       "      <td>0.0</td>\n",
       "      <td>0</td>\n",
       "      <td>0.0</td>\n",
       "      <td>0</td>\n",
       "      <td>0.0</td>\n",
       "      <td>0</td>\n",
       "      <td>0</td>\n",
       "      <td>0</td>\n",
       "      <td>1</td>\n",
       "    </tr>\n",
       "  </tbody>\n",
       "</table>\n",
       "<p>99421 rows × 20 columns</p>\n",
       "</div>"
      ],
      "text/plain": [
       "          DBN       Grade  Year  Category Number_Tested Mean_Scale_Score  \\\n",
       "1      01M015           3  2006     Asian             3              NaN   \n",
       "2      01M015           3  2006     Black            12              662   \n",
       "3      01M015           3  2006  Hispanic            24              670   \n",
       "4      01M015           3  2007     Asian             3              NaN   \n",
       "5      01M015           3  2007     Black             4              NaN   \n",
       "...       ...         ...   ...       ...           ...              ...   \n",
       "99417  75X723  All Grades  2010     White             7              NaN   \n",
       "99418  75X186  All Grades  2011     White             2              NaN   \n",
       "99419  75X188  All Grades  2011     White             1              NaN   \n",
       "99420  75X352  All Grades  2011     White             2              NaN   \n",
       "99421  75X723  All Grades  2011     White             6            613.0   \n",
       "\n",
       "      Level_1 Level_1_% Level_2 Level_2_% Level_3 Level_3_% Level_4 Level_4_%  \\\n",
       "1           s       NaN       s       NaN       s       NaN       s       NaN   \n",
       "2           0         0       3        25       9        75       0         0   \n",
       "3           1       4.2       8      33.3      10      41.7       5      20.8   \n",
       "4           s       NaN       s       NaN       s       NaN       s       NaN   \n",
       "5           s       NaN       s       NaN       s       NaN       s       NaN   \n",
       "...       ...       ...     ...       ...     ...       ...     ...       ...   \n",
       "99417       4      57.1       1      14.3       2      28.6       0       0.0   \n",
       "99418       s       NaN       s       NaN       s       NaN       s       NaN   \n",
       "99419       s       NaN       s       NaN       s       NaN       s       NaN   \n",
       "99420       s       NaN       s       NaN       s       NaN       s       NaN   \n",
       "99421       4      66.7       2      33.3       0       0.0       0       0.0   \n",
       "\n",
       "      Level_3+4 Level_3+4_% Asian Hispanic Black White  \n",
       "1             s         NaN     1        0     0     0  \n",
       "2             9          75     0        0     1     0  \n",
       "3            15        62.5     0        1     0     0  \n",
       "4             s         NaN     1        0     0     0  \n",
       "5             s         NaN     0        0     1     0  \n",
       "...         ...         ...   ...      ...   ...   ...  \n",
       "99417         2        28.6     0        0     0     1  \n",
       "99418         s         NaN     0        0     0     1  \n",
       "99419         s         NaN     0        0     0     1  \n",
       "99420         s         NaN     0        0     0     1  \n",
       "99421         0         0.0     0        0     0     1  \n",
       "\n",
       "[99421 rows x 20 columns]"
      ]
     },
     "execution_count": 7,
     "metadata": {},
     "output_type": "execute_result"
    }
   ],
   "source": [
    "df"
   ]
  },
  {
   "cell_type": "code",
   "execution_count": 8,
   "id": "fc70e89a",
   "metadata": {},
   "outputs": [
    {
     "data": {
      "text/html": [
       "<div>\n",
       "<style scoped>\n",
       "    .dataframe tbody tr th:only-of-type {\n",
       "        vertical-align: middle;\n",
       "    }\n",
       "\n",
       "    .dataframe tbody tr th {\n",
       "        vertical-align: top;\n",
       "    }\n",
       "\n",
       "    .dataframe thead th {\n",
       "        text-align: right;\n",
       "    }\n",
       "</style>\n",
       "<table border=\"1\" class=\"dataframe\">\n",
       "  <thead>\n",
       "    <tr style=\"text-align: right;\">\n",
       "      <th></th>\n",
       "      <th>DBN</th>\n",
       "      <th>Grade</th>\n",
       "      <th>Year</th>\n",
       "      <th>Category</th>\n",
       "      <th>Number_Tested</th>\n",
       "      <th>Mean_Scale_Score</th>\n",
       "      <th>Level_1</th>\n",
       "      <th>Level_1_%</th>\n",
       "      <th>Level_2</th>\n",
       "      <th>Level_2_%</th>\n",
       "      <th>Level_3</th>\n",
       "      <th>Level_3_%</th>\n",
       "      <th>Level_4</th>\n",
       "      <th>Level_4_%</th>\n",
       "      <th>Level_3+4</th>\n",
       "      <th>Level_3+4_%</th>\n",
       "      <th>Asian</th>\n",
       "      <th>Hispanic</th>\n",
       "      <th>Black</th>\n",
       "      <th>White</th>\n",
       "    </tr>\n",
       "  </thead>\n",
       "  <tbody>\n",
       "    <tr>\n",
       "      <th>count</th>\n",
       "      <td>99421</td>\n",
       "      <td>99421</td>\n",
       "      <td>99421</td>\n",
       "      <td>99421</td>\n",
       "      <td>99421</td>\n",
       "      <td>56477.0</td>\n",
       "      <td>99421</td>\n",
       "      <td>72796.0</td>\n",
       "      <td>99421</td>\n",
       "      <td>72796.0</td>\n",
       "      <td>99421</td>\n",
       "      <td>72796.0</td>\n",
       "      <td>99421</td>\n",
       "      <td>72796.0</td>\n",
       "      <td>99421</td>\n",
       "      <td>72796.0</td>\n",
       "      <td>99421</td>\n",
       "      <td>99421</td>\n",
       "      <td>99421</td>\n",
       "      <td>99421</td>\n",
       "    </tr>\n",
       "    <tr>\n",
       "      <th>unique</th>\n",
       "      <td>1132</td>\n",
       "      <td>7</td>\n",
       "      <td>12</td>\n",
       "      <td>4</td>\n",
       "      <td>1391</td>\n",
       "      <td>378.0</td>\n",
       "      <td>204</td>\n",
       "      <td>1210.0</td>\n",
       "      <td>373</td>\n",
       "      <td>1451.0</td>\n",
       "      <td>473</td>\n",
       "      <td>1732.0</td>\n",
       "      <td>362</td>\n",
       "      <td>1839.0</td>\n",
       "      <td>647</td>\n",
       "      <td>1930.0</td>\n",
       "      <td>4</td>\n",
       "      <td>4</td>\n",
       "      <td>4</td>\n",
       "      <td>4</td>\n",
       "    </tr>\n",
       "    <tr>\n",
       "      <th>top</th>\n",
       "      <td>11X089</td>\n",
       "      <td>All Grades</td>\n",
       "      <td>2011</td>\n",
       "      <td>Hispanic</td>\n",
       "      <td>1</td>\n",
       "      <td>675.0</td>\n",
       "      <td>s</td>\n",
       "      <td>0.0</td>\n",
       "      <td>s</td>\n",
       "      <td>0.0</td>\n",
       "      <td>s</td>\n",
       "      <td>50.0</td>\n",
       "      <td>s</td>\n",
       "      <td>0.0</td>\n",
       "      <td>s</td>\n",
       "      <td>100.0</td>\n",
       "      <td>0</td>\n",
       "      <td>0</td>\n",
       "      <td>0</td>\n",
       "      <td>0</td>\n",
       "    </tr>\n",
       "    <tr>\n",
       "      <th>freq</th>\n",
       "      <td>168</td>\n",
       "      <td>24500</td>\n",
       "      <td>11455</td>\n",
       "      <td>28173</td>\n",
       "      <td>5928</td>\n",
       "      <td>717.0</td>\n",
       "      <td>26625</td>\n",
       "      <td>16574.0</td>\n",
       "      <td>26625</td>\n",
       "      <td>5472.0</td>\n",
       "      <td>26625</td>\n",
       "      <td>2161.0</td>\n",
       "      <td>26625</td>\n",
       "      <td>5973.0</td>\n",
       "      <td>26625</td>\n",
       "      <td>4432.0</td>\n",
       "      <td>52437</td>\n",
       "      <td>47668</td>\n",
       "      <td>48506</td>\n",
       "      <td>51351</td>\n",
       "    </tr>\n",
       "  </tbody>\n",
       "</table>\n",
       "</div>"
      ],
      "text/plain": [
       "           DBN       Grade   Year  Category  Number_Tested  Mean_Scale_Score  \\\n",
       "count    99421       99421  99421     99421          99421           56477.0   \n",
       "unique    1132           7     12         4           1391             378.0   \n",
       "top     11X089  All Grades   2011  Hispanic              1             675.0   \n",
       "freq       168       24500  11455     28173           5928             717.0   \n",
       "\n",
       "       Level_1  Level_1_% Level_2  Level_2_% Level_3  Level_3_% Level_4  \\\n",
       "count    99421    72796.0   99421    72796.0   99421    72796.0   99421   \n",
       "unique     204     1210.0     373     1451.0     473     1732.0     362   \n",
       "top          s        0.0       s        0.0       s       50.0       s   \n",
       "freq     26625    16574.0   26625     5472.0   26625     2161.0   26625   \n",
       "\n",
       "        Level_4_% Level_3+4  Level_3+4_%  Asian  Hispanic  Black  White  \n",
       "count     72796.0     99421      72796.0  99421     99421  99421  99421  \n",
       "unique     1839.0       647       1930.0      4         4      4      4  \n",
       "top           0.0         s        100.0      0         0      0      0  \n",
       "freq       5973.0     26625       4432.0  52437     47668  48506  51351  "
      ]
     },
     "execution_count": 8,
     "metadata": {},
     "output_type": "execute_result"
    }
   ],
   "source": [
    "df.describe()"
   ]
  },
  {
   "cell_type": "code",
   "execution_count": 9,
   "id": "979b501f",
   "metadata": {},
   "outputs": [
    {
     "name": "stdout",
     "output_type": "stream",
     "text": [
      "          DBN Grade  Year  Category Number_Tested Mean_Scale_Score Level_1  \\\n",
      "1      01M015     3  2006     Asian             3              NaN       s   \n",
      "2      01M015     3  2006     Black            12              662       0   \n",
      "3      01M015     3  2006  Hispanic            24              670       1   \n",
      "4      01M015     3  2007     Asian             3              NaN       s   \n",
      "5      01M015     3  2007     Black             4              NaN       s   \n",
      "...       ...   ...   ...       ...           ...              ...     ...   \n",
      "99393  75X723     8  2010  Hispanic            16            585.0      14   \n",
      "99394  75X723     8  2010     White             1              NaN       s   \n",
      "99395  75X723     8  2011     Asian             2              NaN       s   \n",
      "99396  75X723     8  2011     Black            12            590.0       8   \n",
      "99397  75X723     8  2011  Hispanic            18            602.0      14   \n",
      "\n",
      "      Level_1_% Level_2 Level_2_% Level_3 Level_3_% Level_4 Level_4_%  \\\n",
      "1           NaN       s       NaN       s       NaN       s       NaN   \n",
      "2             0       3        25       9        75       0         0   \n",
      "3           4.2       8      33.3      10      41.7       5      20.8   \n",
      "4           NaN       s       NaN       s       NaN       s       NaN   \n",
      "5           NaN       s       NaN       s       NaN       s       NaN   \n",
      "...         ...     ...       ...     ...       ...     ...       ...   \n",
      "99393      87.5       2      12.5       0       0.0       0       0.0   \n",
      "99394       NaN       s       NaN       s       NaN       s       NaN   \n",
      "99395       NaN       s       NaN       s       NaN       s       NaN   \n",
      "99396      66.7       4      33.3       0       0.0       0       0.0   \n",
      "99397      77.8       3      16.7       1       5.6       0       0.0   \n",
      "\n",
      "      Level_3+4 Level_3+4_% Asian Hispanic Black White  \n",
      "1             s         NaN     1        0     0     0  \n",
      "2             9          75     0        0     1     0  \n",
      "3            15        62.5     0        1     0     0  \n",
      "4             s         NaN     1        0     0     0  \n",
      "5             s         NaN     0        0     1     0  \n",
      "...         ...         ...   ...      ...   ...   ...  \n",
      "99393         0         0.0     0        1     0     0  \n",
      "99394         s         NaN     0        0     0     1  \n",
      "99395         s         NaN     1        0     0     0  \n",
      "99396         0         0.0     0        0     1     0  \n",
      "99397         1         5.6     0        1     0     0  \n",
      "\n",
      "[74921 rows x 20 columns]\n"
     ]
    },
    {
     "data": {
      "text/html": [
       "<div>\n",
       "<style scoped>\n",
       "    .dataframe tbody tr th:only-of-type {\n",
       "        vertical-align: middle;\n",
       "    }\n",
       "\n",
       "    .dataframe tbody tr th {\n",
       "        vertical-align: top;\n",
       "    }\n",
       "\n",
       "    .dataframe thead th {\n",
       "        text-align: right;\n",
       "    }\n",
       "</style>\n",
       "<table border=\"1\" class=\"dataframe\">\n",
       "  <thead>\n",
       "    <tr style=\"text-align: right;\">\n",
       "      <th></th>\n",
       "      <th>DBN</th>\n",
       "      <th>Grade</th>\n",
       "      <th>Year</th>\n",
       "      <th>Category</th>\n",
       "      <th>Number_Tested</th>\n",
       "      <th>Mean_Scale_Score</th>\n",
       "      <th>Level_1</th>\n",
       "      <th>Level_1_%</th>\n",
       "      <th>Level_2</th>\n",
       "      <th>Level_2_%</th>\n",
       "      <th>Level_3</th>\n",
       "      <th>Level_3_%</th>\n",
       "      <th>Level_4</th>\n",
       "      <th>Level_4_%</th>\n",
       "      <th>Level_3+4</th>\n",
       "      <th>Level_3+4_%</th>\n",
       "      <th>Asian</th>\n",
       "      <th>Hispanic</th>\n",
       "      <th>Black</th>\n",
       "      <th>White</th>\n",
       "    </tr>\n",
       "  </thead>\n",
       "  <tbody>\n",
       "    <tr>\n",
       "      <th>1</th>\n",
       "      <td>01M015</td>\n",
       "      <td>3</td>\n",
       "      <td>2006</td>\n",
       "      <td>Asian</td>\n",
       "      <td>3</td>\n",
       "      <td>NaN</td>\n",
       "      <td>s</td>\n",
       "      <td>NaN</td>\n",
       "      <td>s</td>\n",
       "      <td>NaN</td>\n",
       "      <td>s</td>\n",
       "      <td>NaN</td>\n",
       "      <td>s</td>\n",
       "      <td>NaN</td>\n",
       "      <td>s</td>\n",
       "      <td>NaN</td>\n",
       "      <td>1</td>\n",
       "      <td>0</td>\n",
       "      <td>0</td>\n",
       "      <td>0</td>\n",
       "    </tr>\n",
       "    <tr>\n",
       "      <th>2</th>\n",
       "      <td>01M015</td>\n",
       "      <td>3</td>\n",
       "      <td>2006</td>\n",
       "      <td>Black</td>\n",
       "      <td>12</td>\n",
       "      <td>662</td>\n",
       "      <td>0</td>\n",
       "      <td>0</td>\n",
       "      <td>3</td>\n",
       "      <td>25</td>\n",
       "      <td>9</td>\n",
       "      <td>75</td>\n",
       "      <td>0</td>\n",
       "      <td>0</td>\n",
       "      <td>9</td>\n",
       "      <td>75</td>\n",
       "      <td>0</td>\n",
       "      <td>0</td>\n",
       "      <td>1</td>\n",
       "      <td>0</td>\n",
       "    </tr>\n",
       "    <tr>\n",
       "      <th>3</th>\n",
       "      <td>01M015</td>\n",
       "      <td>3</td>\n",
       "      <td>2006</td>\n",
       "      <td>Hispanic</td>\n",
       "      <td>24</td>\n",
       "      <td>670</td>\n",
       "      <td>1</td>\n",
       "      <td>4.2</td>\n",
       "      <td>8</td>\n",
       "      <td>33.3</td>\n",
       "      <td>10</td>\n",
       "      <td>41.7</td>\n",
       "      <td>5</td>\n",
       "      <td>20.8</td>\n",
       "      <td>15</td>\n",
       "      <td>62.5</td>\n",
       "      <td>0</td>\n",
       "      <td>1</td>\n",
       "      <td>0</td>\n",
       "      <td>0</td>\n",
       "    </tr>\n",
       "    <tr>\n",
       "      <th>4</th>\n",
       "      <td>01M015</td>\n",
       "      <td>3</td>\n",
       "      <td>2007</td>\n",
       "      <td>Asian</td>\n",
       "      <td>3</td>\n",
       "      <td>NaN</td>\n",
       "      <td>s</td>\n",
       "      <td>NaN</td>\n",
       "      <td>s</td>\n",
       "      <td>NaN</td>\n",
       "      <td>s</td>\n",
       "      <td>NaN</td>\n",
       "      <td>s</td>\n",
       "      <td>NaN</td>\n",
       "      <td>s</td>\n",
       "      <td>NaN</td>\n",
       "      <td>1</td>\n",
       "      <td>0</td>\n",
       "      <td>0</td>\n",
       "      <td>0</td>\n",
       "    </tr>\n",
       "    <tr>\n",
       "      <th>5</th>\n",
       "      <td>01M015</td>\n",
       "      <td>3</td>\n",
       "      <td>2007</td>\n",
       "      <td>Black</td>\n",
       "      <td>4</td>\n",
       "      <td>NaN</td>\n",
       "      <td>s</td>\n",
       "      <td>NaN</td>\n",
       "      <td>s</td>\n",
       "      <td>NaN</td>\n",
       "      <td>s</td>\n",
       "      <td>NaN</td>\n",
       "      <td>s</td>\n",
       "      <td>NaN</td>\n",
       "      <td>s</td>\n",
       "      <td>NaN</td>\n",
       "      <td>0</td>\n",
       "      <td>0</td>\n",
       "      <td>1</td>\n",
       "      <td>0</td>\n",
       "    </tr>\n",
       "    <tr>\n",
       "      <th>...</th>\n",
       "      <td>...</td>\n",
       "      <td>...</td>\n",
       "      <td>...</td>\n",
       "      <td>...</td>\n",
       "      <td>...</td>\n",
       "      <td>...</td>\n",
       "      <td>...</td>\n",
       "      <td>...</td>\n",
       "      <td>...</td>\n",
       "      <td>...</td>\n",
       "      <td>...</td>\n",
       "      <td>...</td>\n",
       "      <td>...</td>\n",
       "      <td>...</td>\n",
       "      <td>...</td>\n",
       "      <td>...</td>\n",
       "      <td>...</td>\n",
       "      <td>...</td>\n",
       "      <td>...</td>\n",
       "      <td>...</td>\n",
       "    </tr>\n",
       "    <tr>\n",
       "      <th>99393</th>\n",
       "      <td>75X723</td>\n",
       "      <td>8</td>\n",
       "      <td>2010</td>\n",
       "      <td>Hispanic</td>\n",
       "      <td>16</td>\n",
       "      <td>585.0</td>\n",
       "      <td>14</td>\n",
       "      <td>87.5</td>\n",
       "      <td>2</td>\n",
       "      <td>12.5</td>\n",
       "      <td>0</td>\n",
       "      <td>0.0</td>\n",
       "      <td>0</td>\n",
       "      <td>0.0</td>\n",
       "      <td>0</td>\n",
       "      <td>0.0</td>\n",
       "      <td>0</td>\n",
       "      <td>1</td>\n",
       "      <td>0</td>\n",
       "      <td>0</td>\n",
       "    </tr>\n",
       "    <tr>\n",
       "      <th>99394</th>\n",
       "      <td>75X723</td>\n",
       "      <td>8</td>\n",
       "      <td>2010</td>\n",
       "      <td>White</td>\n",
       "      <td>1</td>\n",
       "      <td>NaN</td>\n",
       "      <td>s</td>\n",
       "      <td>NaN</td>\n",
       "      <td>s</td>\n",
       "      <td>NaN</td>\n",
       "      <td>s</td>\n",
       "      <td>NaN</td>\n",
       "      <td>s</td>\n",
       "      <td>NaN</td>\n",
       "      <td>s</td>\n",
       "      <td>NaN</td>\n",
       "      <td>0</td>\n",
       "      <td>0</td>\n",
       "      <td>0</td>\n",
       "      <td>1</td>\n",
       "    </tr>\n",
       "    <tr>\n",
       "      <th>99395</th>\n",
       "      <td>75X723</td>\n",
       "      <td>8</td>\n",
       "      <td>2011</td>\n",
       "      <td>Asian</td>\n",
       "      <td>2</td>\n",
       "      <td>NaN</td>\n",
       "      <td>s</td>\n",
       "      <td>NaN</td>\n",
       "      <td>s</td>\n",
       "      <td>NaN</td>\n",
       "      <td>s</td>\n",
       "      <td>NaN</td>\n",
       "      <td>s</td>\n",
       "      <td>NaN</td>\n",
       "      <td>s</td>\n",
       "      <td>NaN</td>\n",
       "      <td>1</td>\n",
       "      <td>0</td>\n",
       "      <td>0</td>\n",
       "      <td>0</td>\n",
       "    </tr>\n",
       "    <tr>\n",
       "      <th>99396</th>\n",
       "      <td>75X723</td>\n",
       "      <td>8</td>\n",
       "      <td>2011</td>\n",
       "      <td>Black</td>\n",
       "      <td>12</td>\n",
       "      <td>590.0</td>\n",
       "      <td>8</td>\n",
       "      <td>66.7</td>\n",
       "      <td>4</td>\n",
       "      <td>33.3</td>\n",
       "      <td>0</td>\n",
       "      <td>0.0</td>\n",
       "      <td>0</td>\n",
       "      <td>0.0</td>\n",
       "      <td>0</td>\n",
       "      <td>0.0</td>\n",
       "      <td>0</td>\n",
       "      <td>0</td>\n",
       "      <td>1</td>\n",
       "      <td>0</td>\n",
       "    </tr>\n",
       "    <tr>\n",
       "      <th>99397</th>\n",
       "      <td>75X723</td>\n",
       "      <td>8</td>\n",
       "      <td>2011</td>\n",
       "      <td>Hispanic</td>\n",
       "      <td>18</td>\n",
       "      <td>602.0</td>\n",
       "      <td>14</td>\n",
       "      <td>77.8</td>\n",
       "      <td>3</td>\n",
       "      <td>16.7</td>\n",
       "      <td>1</td>\n",
       "      <td>5.6</td>\n",
       "      <td>0</td>\n",
       "      <td>0.0</td>\n",
       "      <td>1</td>\n",
       "      <td>5.6</td>\n",
       "      <td>0</td>\n",
       "      <td>1</td>\n",
       "      <td>0</td>\n",
       "      <td>0</td>\n",
       "    </tr>\n",
       "  </tbody>\n",
       "</table>\n",
       "<p>74921 rows × 20 columns</p>\n",
       "</div>"
      ],
      "text/plain": [
       "          DBN Grade  Year  Category Number_Tested Mean_Scale_Score Level_1  \\\n",
       "1      01M015     3  2006     Asian             3              NaN       s   \n",
       "2      01M015     3  2006     Black            12              662       0   \n",
       "3      01M015     3  2006  Hispanic            24              670       1   \n",
       "4      01M015     3  2007     Asian             3              NaN       s   \n",
       "5      01M015     3  2007     Black             4              NaN       s   \n",
       "...       ...   ...   ...       ...           ...              ...     ...   \n",
       "99393  75X723     8  2010  Hispanic            16            585.0      14   \n",
       "99394  75X723     8  2010     White             1              NaN       s   \n",
       "99395  75X723     8  2011     Asian             2              NaN       s   \n",
       "99396  75X723     8  2011     Black            12            590.0       8   \n",
       "99397  75X723     8  2011  Hispanic            18            602.0      14   \n",
       "\n",
       "      Level_1_% Level_2 Level_2_% Level_3 Level_3_% Level_4 Level_4_%  \\\n",
       "1           NaN       s       NaN       s       NaN       s       NaN   \n",
       "2             0       3        25       9        75       0         0   \n",
       "3           4.2       8      33.3      10      41.7       5      20.8   \n",
       "4           NaN       s       NaN       s       NaN       s       NaN   \n",
       "5           NaN       s       NaN       s       NaN       s       NaN   \n",
       "...         ...     ...       ...     ...       ...     ...       ...   \n",
       "99393      87.5       2      12.5       0       0.0       0       0.0   \n",
       "99394       NaN       s       NaN       s       NaN       s       NaN   \n",
       "99395       NaN       s       NaN       s       NaN       s       NaN   \n",
       "99396      66.7       4      33.3       0       0.0       0       0.0   \n",
       "99397      77.8       3      16.7       1       5.6       0       0.0   \n",
       "\n",
       "      Level_3+4 Level_3+4_% Asian Hispanic Black White  \n",
       "1             s         NaN     1        0     0     0  \n",
       "2             9          75     0        0     1     0  \n",
       "3            15        62.5     0        1     0     0  \n",
       "4             s         NaN     1        0     0     0  \n",
       "5             s         NaN     0        0     1     0  \n",
       "...         ...         ...   ...      ...   ...   ...  \n",
       "99393         0         0.0     0        1     0     0  \n",
       "99394         s         NaN     0        0     0     1  \n",
       "99395         s         NaN     1        0     0     0  \n",
       "99396         0         0.0     0        0     1     0  \n",
       "99397         1         5.6     0        1     0     0  \n",
       "\n",
       "[74921 rows x 20 columns]"
      ]
     },
     "execution_count": 9,
     "metadata": {},
     "output_type": "execute_result"
    }
   ],
   "source": [
    "## Removing of All Grades because they are agregated rows.\n",
    "newdf = df[(df.Grade != \"All Grades\")]\n",
    "print(newdf)\n",
    "newdf"
   ]
  },
  {
   "cell_type": "code",
   "execution_count": 10,
   "id": "f4637e85",
   "metadata": {},
   "outputs": [
    {
     "name": "stdout",
     "output_type": "stream",
     "text": [
      "          DBN Grade  Year Category Number_Tested Mean_Scale_Score Level_1  \\\n",
      "1      01M015     3  2006    Asian             3              NaN       s   \n",
      "4      01M015     3  2007    Asian             3              NaN       s   \n",
      "5      01M015     3  2007    Black             4              NaN       s   \n",
      "7      01M015     3  2007    White             1              NaN       s   \n",
      "8      01M015     3  2008    Asian             1              NaN       s   \n",
      "...       ...   ...   ...      ...           ...              ...     ...   \n",
      "99387  75X723     8  2009    Asian             2              NaN       s   \n",
      "99390  75X723     8  2009    White             1              NaN       s   \n",
      "99391  75X723     8  2010    Asian             1              NaN       s   \n",
      "99394  75X723     8  2010    White             1              NaN       s   \n",
      "99395  75X723     8  2011    Asian             2              NaN       s   \n",
      "\n",
      "      Level_1_% Level_2 Level_2_% Level_3 Level_3_% Level_4 Level_4_%  \\\n",
      "1           NaN       s       NaN       s       NaN       s       NaN   \n",
      "4           NaN       s       NaN       s       NaN       s       NaN   \n",
      "5           NaN       s       NaN       s       NaN       s       NaN   \n",
      "7           NaN       s       NaN       s       NaN       s       NaN   \n",
      "8           NaN       s       NaN       s       NaN       s       NaN   \n",
      "...         ...     ...       ...     ...       ...     ...       ...   \n",
      "99387       NaN       s       NaN       s       NaN       s       NaN   \n",
      "99390       NaN       s       NaN       s       NaN       s       NaN   \n",
      "99391       NaN       s       NaN       s       NaN       s       NaN   \n",
      "99394       NaN       s       NaN       s       NaN       s       NaN   \n",
      "99395       NaN       s       NaN       s       NaN       s       NaN   \n",
      "\n",
      "      Level_3+4 Level_3+4_% Asian Hispanic Black White  \n",
      "1             s         NaN     1        0     0     0  \n",
      "4             s         NaN     1        0     0     0  \n",
      "5             s         NaN     0        0     1     0  \n",
      "7             s         NaN     0        0     0     1  \n",
      "8             s         NaN     1        0     0     0  \n",
      "...         ...         ...   ...      ...   ...   ...  \n",
      "99387         s         NaN     1        0     0     0  \n",
      "99390         s         NaN     0        0     0     1  \n",
      "99391         s         NaN     1        0     0     0  \n",
      "99394         s         NaN     0        0     0     1  \n",
      "99395         s         NaN     1        0     0     0  \n",
      "\n",
      "[21830 rows x 20 columns]\n"
     ]
    }
   ],
   "source": [
    "## dataframe = to all suppresed rows\n",
    "sdf = newdf[(newdf.Level_1 == \"s\")]\n",
    "print(sdf)"
   ]
  },
  {
   "cell_type": "code",
   "execution_count": 11,
   "id": "9093e2e3",
   "metadata": {},
   "outputs": [
    {
     "name": "stdout",
     "output_type": "stream",
     "text": [
      "Category\n",
      "Asian       7787\n",
      "Black       4016\n",
      "Hispanic    2189\n",
      "White       7838\n",
      "Name: Category, dtype: int64\n"
     ]
    }
   ],
   "source": [
    "##aggregate of suppresed rows\n",
    "sdf1 = sdf.groupby(['Category'])['Category'].count()\n",
    "print(sdf1)"
   ]
  },
  {
   "cell_type": "code",
   "execution_count": 12,
   "id": "b736ed06",
   "metadata": {
    "scrolled": true
   },
   "outputs": [
    {
     "name": "stdout",
     "output_type": "stream",
     "text": [
      "          DBN Grade  Year  Category Number_Tested Mean_Scale_Score Level_1  \\\n",
      "2      01M015     3  2006     Black            12              662       0   \n",
      "3      01M015     3  2006  Hispanic            24              670       1   \n",
      "6      01M015     3  2007  Hispanic            23              678       0   \n",
      "9      01M015     3  2008     Black             8              652       0   \n",
      "10     01M015     3  2008  Hispanic            27              671       0   \n",
      "...       ...   ...   ...       ...           ...              ...     ...   \n",
      "99389  75X723     8  2009  Hispanic            15            601.0       9   \n",
      "99392  75X723     8  2010     Black            19            607.0      15   \n",
      "99393  75X723     8  2010  Hispanic            16            585.0      14   \n",
      "99396  75X723     8  2011     Black            12            590.0       8   \n",
      "99397  75X723     8  2011  Hispanic            18            602.0      14   \n",
      "\n",
      "      Level_1_% Level_2 Level_2_% Level_3 Level_3_% Level_4 Level_4_%  \\\n",
      "2             0       3        25       9        75       0         0   \n",
      "3           4.2       8      33.3      10      41.7       5      20.8   \n",
      "6             0       1       4.3      19      82.6       3        13   \n",
      "9             0       3      37.5       5      62.5       0         0   \n",
      "10            0       3      11.1      23      85.2       1       3.7   \n",
      "...         ...     ...       ...     ...       ...     ...       ...   \n",
      "99389      60.0       6      40.0       0       0.0       0       0.0   \n",
      "99392      78.9       4      21.1       0       0.0       0       0.0   \n",
      "99393      87.5       2      12.5       0       0.0       0       0.0   \n",
      "99396      66.7       4      33.3       0       0.0       0       0.0   \n",
      "99397      77.8       3      16.7       1       5.6       0       0.0   \n",
      "\n",
      "      Level_3+4 Level_3+4_% Asian Hispanic Black White  \n",
      "2             9          75     0        0     1     0  \n",
      "3            15        62.5     0        1     0     0  \n",
      "6            22        95.7     0        1     0     0  \n",
      "9             5        62.5     0        0     1     0  \n",
      "10           24        88.9     0        1     0     0  \n",
      "...         ...         ...   ...      ...   ...   ...  \n",
      "99389         0         0.0     0        1     0     0  \n",
      "99392         0         0.0     0        0     1     0  \n",
      "99393         0         0.0     0        1     0     0  \n",
      "99396         0         0.0     0        0     1     0  \n",
      "99397         1         5.6     0        1     0     0  \n",
      "\n",
      "[53091 rows x 20 columns]\n"
     ]
    }
   ],
   "source": [
    "##dataframe without suppressed rows\n",
    "df1 = newdf[(newdf.Level_1 != \"s\")]\n",
    "print(df1)"
   ]
  },
  {
   "cell_type": "code",
   "execution_count": 13,
   "id": "9af5a4ae",
   "metadata": {
    "scrolled": false
   },
   "outputs": [
    {
     "data": {
      "text/html": [
       "<div>\n",
       "<style scoped>\n",
       "    .dataframe tbody tr th:only-of-type {\n",
       "        vertical-align: middle;\n",
       "    }\n",
       "\n",
       "    .dataframe tbody tr th {\n",
       "        vertical-align: top;\n",
       "    }\n",
       "\n",
       "    .dataframe thead th {\n",
       "        text-align: right;\n",
       "    }\n",
       "</style>\n",
       "<table border=\"1\" class=\"dataframe\">\n",
       "  <thead>\n",
       "    <tr style=\"text-align: right;\">\n",
       "      <th></th>\n",
       "      <th>DBN</th>\n",
       "      <th>Grade</th>\n",
       "      <th>Year</th>\n",
       "      <th>Category</th>\n",
       "      <th>Number_Tested</th>\n",
       "      <th>Mean_Scale_Score</th>\n",
       "      <th>Level_1</th>\n",
       "      <th>Level_1_%</th>\n",
       "      <th>Level_2</th>\n",
       "      <th>Level_2_%</th>\n",
       "      <th>Level_3</th>\n",
       "      <th>Level_3_%</th>\n",
       "      <th>Level_4</th>\n",
       "      <th>Level_4_%</th>\n",
       "      <th>Level_3+4</th>\n",
       "      <th>Level_3+4_%</th>\n",
       "      <th>Asian</th>\n",
       "      <th>Hispanic</th>\n",
       "      <th>Black</th>\n",
       "      <th>White</th>\n",
       "    </tr>\n",
       "  </thead>\n",
       "  <tbody>\n",
       "    <tr>\n",
       "      <th>count</th>\n",
       "      <td>53091</td>\n",
       "      <td>53091</td>\n",
       "      <td>53091</td>\n",
       "      <td>53091</td>\n",
       "      <td>53091</td>\n",
       "      <td>53091.0</td>\n",
       "      <td>53091</td>\n",
       "      <td>53091.0</td>\n",
       "      <td>53091</td>\n",
       "      <td>53091.0</td>\n",
       "      <td>53091</td>\n",
       "      <td>53091.0</td>\n",
       "      <td>53091</td>\n",
       "      <td>53091.0</td>\n",
       "      <td>53091</td>\n",
       "      <td>53091.0</td>\n",
       "      <td>53091</td>\n",
       "      <td>53091</td>\n",
       "      <td>53091</td>\n",
       "      <td>53091</td>\n",
       "    </tr>\n",
       "    <tr>\n",
       "      <th>unique</th>\n",
       "      <td>1122</td>\n",
       "      <td>6</td>\n",
       "      <td>12</td>\n",
       "      <td>4</td>\n",
       "      <td>727</td>\n",
       "      <td>378.0</td>\n",
       "      <td>117</td>\n",
       "      <td>1099.0</td>\n",
       "      <td>202</td>\n",
       "      <td>1425.0</td>\n",
       "      <td>248</td>\n",
       "      <td>1685.0</td>\n",
       "      <td>189</td>\n",
       "      <td>1715.0</td>\n",
       "      <td>334</td>\n",
       "      <td>1869.0</td>\n",
       "      <td>4</td>\n",
       "      <td>4</td>\n",
       "      <td>4</td>\n",
       "      <td>4</td>\n",
       "    </tr>\n",
       "    <tr>\n",
       "      <th>top</th>\n",
       "      <td>11X089</td>\n",
       "      <td>3</td>\n",
       "      <td>2011</td>\n",
       "      <td>Hispanic</td>\n",
       "      <td>6</td>\n",
       "      <td>675.0</td>\n",
       "      <td>0</td>\n",
       "      <td>0.0</td>\n",
       "      <td>0</td>\n",
       "      <td>0.0</td>\n",
       "      <td>5</td>\n",
       "      <td>50.0</td>\n",
       "      <td>0</td>\n",
       "      <td>0.0</td>\n",
       "      <td>6</td>\n",
       "      <td>100.0</td>\n",
       "      <td>0</td>\n",
       "      <td>0</td>\n",
       "      <td>0</td>\n",
       "      <td>0</td>\n",
       "    </tr>\n",
       "    <tr>\n",
       "      <th>freq</th>\n",
       "      <td>144</td>\n",
       "      <td>10707</td>\n",
       "      <td>6194</td>\n",
       "      <td>19526</td>\n",
       "      <td>1440</td>\n",
       "      <td>649.0</td>\n",
       "      <td>19393</td>\n",
       "      <td>13425.0</td>\n",
       "      <td>6628</td>\n",
       "      <td>4515.0</td>\n",
       "      <td>2876</td>\n",
       "      <td>1732.0</td>\n",
       "      <td>7718</td>\n",
       "      <td>4949.0</td>\n",
       "      <td>2337</td>\n",
       "      <td>3672.0</td>\n",
       "      <td>29603</td>\n",
       "      <td>23642</td>\n",
       "      <td>25152</td>\n",
       "      <td>29819</td>\n",
       "    </tr>\n",
       "  </tbody>\n",
       "</table>\n",
       "</div>"
      ],
      "text/plain": [
       "           DBN  Grade   Year  Category  Number_Tested  Mean_Scale_Score  \\\n",
       "count    53091  53091  53091     53091          53091           53091.0   \n",
       "unique    1122      6     12         4            727             378.0   \n",
       "top     11X089      3   2011  Hispanic              6             675.0   \n",
       "freq       144  10707   6194     19526           1440             649.0   \n",
       "\n",
       "       Level_1  Level_1_% Level_2  Level_2_% Level_3  Level_3_% Level_4  \\\n",
       "count    53091    53091.0   53091    53091.0   53091    53091.0   53091   \n",
       "unique     117     1099.0     202     1425.0     248     1685.0     189   \n",
       "top          0        0.0       0        0.0       5       50.0       0   \n",
       "freq     19393    13425.0    6628     4515.0    2876     1732.0    7718   \n",
       "\n",
       "        Level_4_% Level_3+4  Level_3+4_%  Asian  Hispanic  Black  White  \n",
       "count     53091.0     53091      53091.0  53091     53091  53091  53091  \n",
       "unique     1715.0       334       1869.0      4         4      4      4  \n",
       "top           0.0         6        100.0      0         0      0      0  \n",
       "freq       4949.0      2337       3672.0  29603     23642  25152  29819  "
      ]
     },
     "execution_count": 13,
     "metadata": {},
     "output_type": "execute_result"
    }
   ],
   "source": [
    "df1.describe()\n",
    "# You can see there are no more null values"
   ]
  },
  {
   "cell_type": "code",
   "execution_count": 14,
   "id": "63d85889",
   "metadata": {},
   "outputs": [
    {
     "name": "stderr",
     "output_type": "stream",
     "text": [
      "C:\\Users\\Barb\\AppData\\Local\\Temp\\ipykernel_11348\\2188968644.py:1: SettingWithCopyWarning: \n",
      "A value is trying to be set on a copy of a slice from a DataFrame.\n",
      "Try using .loc[row_indexer,col_indexer] = value instead\n",
      "\n",
      "See the caveats in the documentation: https://pandas.pydata.org/pandas-docs/stable/user_guide/indexing.html#returning-a-view-versus-a-copy\n",
      "  df1[\"Year\"] = df1[\"Year\"].astype(float)\n"
     ]
    }
   ],
   "source": [
    "df1[\"Year\"] = df1[\"Year\"].astype(float)\n"
   ]
  },
  {
   "cell_type": "code",
   "execution_count": 15,
   "id": "e6ab5642",
   "metadata": {},
   "outputs": [
    {
     "name": "stderr",
     "output_type": "stream",
     "text": [
      "C:\\Users\\Barb\\AppData\\Local\\Temp\\ipykernel_11348\\4218225943.py:1: SettingWithCopyWarning: \n",
      "A value is trying to be set on a copy of a slice from a DataFrame.\n",
      "Try using .loc[row_indexer,col_indexer] = value instead\n",
      "\n",
      "See the caveats in the documentation: https://pandas.pydata.org/pandas-docs/stable/user_guide/indexing.html#returning-a-view-versus-a-copy\n",
      "  df1[\"Grade\"] = df1[\"Grade\"].astype(float)\n"
     ]
    }
   ],
   "source": [
    "df1[\"Grade\"] = df1[\"Grade\"].astype(float)\n"
   ]
  },
  {
   "cell_type": "code",
   "execution_count": 20,
   "id": "ca23fcc2",
   "metadata": {},
   "outputs": [
    {
     "name": "stderr",
     "output_type": "stream",
     "text": [
      "C:\\Users\\Barb\\AppData\\Local\\Temp\\ipykernel_11348\\294779244.py:1: SettingWithCopyWarning: \n",
      "A value is trying to be set on a copy of a slice from a DataFrame.\n",
      "Try using .loc[row_indexer,col_indexer] = value instead\n",
      "\n",
      "See the caveats in the documentation: https://pandas.pydata.org/pandas-docs/stable/user_guide/indexing.html#returning-a-view-versus-a-copy\n",
      "  df1[\"Level_4\"] = df1[\"Level_4\"].astype(float)\n",
      "C:\\Users\\Barb\\AppData\\Local\\Temp\\ipykernel_11348\\294779244.py:2: SettingWithCopyWarning: \n",
      "A value is trying to be set on a copy of a slice from a DataFrame.\n",
      "Try using .loc[row_indexer,col_indexer] = value instead\n",
      "\n",
      "See the caveats in the documentation: https://pandas.pydata.org/pandas-docs/stable/user_guide/indexing.html#returning-a-view-versus-a-copy\n",
      "  df1[\"White\"] = df1[\"White\"].astype(float)\n",
      "C:\\Users\\Barb\\AppData\\Local\\Temp\\ipykernel_11348\\294779244.py:3: SettingWithCopyWarning: \n",
      "A value is trying to be set on a copy of a slice from a DataFrame.\n",
      "Try using .loc[row_indexer,col_indexer] = value instead\n",
      "\n",
      "See the caveats in the documentation: https://pandas.pydata.org/pandas-docs/stable/user_guide/indexing.html#returning-a-view-versus-a-copy\n",
      "  df1[\"Black\"] = df1[\"Black\"].astype(float)\n",
      "C:\\Users\\Barb\\AppData\\Local\\Temp\\ipykernel_11348\\294779244.py:4: SettingWithCopyWarning: \n",
      "A value is trying to be set on a copy of a slice from a DataFrame.\n",
      "Try using .loc[row_indexer,col_indexer] = value instead\n",
      "\n",
      "See the caveats in the documentation: https://pandas.pydata.org/pandas-docs/stable/user_guide/indexing.html#returning-a-view-versus-a-copy\n",
      "  df1[\"Hispanic\"] = df1[\"Hispanic\"].astype(float)\n",
      "C:\\Users\\Barb\\AppData\\Local\\Temp\\ipykernel_11348\\294779244.py:5: SettingWithCopyWarning: \n",
      "A value is trying to be set on a copy of a slice from a DataFrame.\n",
      "Try using .loc[row_indexer,col_indexer] = value instead\n",
      "\n",
      "See the caveats in the documentation: https://pandas.pydata.org/pandas-docs/stable/user_guide/indexing.html#returning-a-view-versus-a-copy\n",
      "  df1[\"Asian\"] = df1[\"Asian\"].astype(float)\n"
     ]
    }
   ],
   "source": [
    "df1[\"Level_4\"] = df1[\"Level_4\"].astype(float)\n",
    "df1[\"White\"] = df1[\"White\"].astype(float)\n",
    "df1[\"Black\"] = df1[\"Black\"].astype(float)\n",
    "df1[\"Hispanic\"] = df1[\"Hispanic\"].astype(float)\n",
    "df1[\"Asian\"] = df1[\"Asian\"].astype(float)\n"
   ]
  },
  {
   "cell_type": "code",
   "execution_count": 21,
   "id": "81ecda4f",
   "metadata": {},
   "outputs": [
    {
     "name": "stderr",
     "output_type": "stream",
     "text": [
      "C:\\Users\\Barb\\AppData\\Local\\Temp\\ipykernel_11348\\3221611106.py:1: SettingWithCopyWarning: \n",
      "A value is trying to be set on a copy of a slice from a DataFrame.\n",
      "Try using .loc[row_indexer,col_indexer] = value instead\n",
      "\n",
      "See the caveats in the documentation: https://pandas.pydata.org/pandas-docs/stable/user_guide/indexing.html#returning-a-view-versus-a-copy\n",
      "  df1[\"Mean_Scale_Score\"] = df1[\"Mean_Scale_Score\"].astype(float)\n"
     ]
    }
   ],
   "source": [
    "df1[\"Mean_Scale_Score\"] = df1[\"Mean_Scale_Score\"].astype(float)\n"
   ]
  },
  {
   "cell_type": "code",
   "execution_count": 22,
   "id": "76c4fd3b",
   "metadata": {},
   "outputs": [
    {
     "name": "stdout",
     "output_type": "stream",
     "text": [
      "<class 'pandas.core.frame.DataFrame'>\n",
      "Int64Index: 53091 entries, 2 to 99397\n",
      "Data columns (total 20 columns):\n",
      " #   Column            Non-Null Count  Dtype  \n",
      "---  ------            --------------  -----  \n",
      " 0   DBN               53091 non-null  object \n",
      " 1   Grade             53091 non-null  float64\n",
      " 2   Year              53091 non-null  float64\n",
      " 3   Category          53091 non-null  object \n",
      " 4   Number_Tested     53091 non-null  object \n",
      " 5   Mean_Scale_Score  53091 non-null  float64\n",
      " 6   Level_1           53091 non-null  object \n",
      " 7   Level_1_%         53091 non-null  object \n",
      " 8   Level_2           53091 non-null  object \n",
      " 9   Level_2_%         53091 non-null  object \n",
      " 10  Level_3           53091 non-null  object \n",
      " 11  Level_3_%         53091 non-null  object \n",
      " 12  Level_4           53091 non-null  float64\n",
      " 13  Level_4_%         53091 non-null  object \n",
      " 14  Level_3+4         53091 non-null  object \n",
      " 15  Level_3+4_%       53091 non-null  object \n",
      " 16  Asian             53091 non-null  float64\n",
      " 17  Hispanic          53091 non-null  float64\n",
      " 18  Black             53091 non-null  float64\n",
      " 19  White             53091 non-null  float64\n",
      "dtypes: float64(8), object(12)\n",
      "memory usage: 8.5+ MB\n"
     ]
    }
   ],
   "source": [
    "df1.info()"
   ]
  },
  {
   "cell_type": "code",
   "execution_count": 39,
   "id": "941ce5d6",
   "metadata": {},
   "outputs": [],
   "source": [
    "X = df1[['Black', 'White', 'Hispanic', 'Asian']]\n",
    "y = df1[['Level_4_%']]\n",
    "\n",
    "import seaborn as sns\n",
    "from sklearn.model_selection import train_test_split\n",
    "X_train, X_test, y_train, y_test = train_test_split(X, y, test_size=0.40, random_state=123)"
   ]
  },
  {
   "cell_type": "code",
   "execution_count": 40,
   "id": "73b0055a",
   "metadata": {},
   "outputs": [],
   "source": [
    "from sklearn.linear_model import LinearRegression  \n",
    "from sklearn import metrics\n",
    "from sklearn.metrics import mean_squared_error\n"
   ]
  },
  {
   "cell_type": "code",
   "execution_count": 41,
   "id": "05f35e30",
   "metadata": {},
   "outputs": [
    {
     "name": "stdout",
     "output_type": "stream",
     "text": [
      "[[8.43811411e+12 8.43811411e+12 8.43811411e+12 8.43811411e+12]]\n",
      "[-8.43811411e+12]\n"
     ]
    }
   ],
   "source": [
    "reg = LinearRegression() \n",
    "reg.fit(X_train, y_train) \n",
    "\n",
    "print(reg.coef_)\n",
    "print(reg.intercept_)\n"
   ]
  },
  {
   "cell_type": "code",
   "execution_count": 42,
   "id": "f33ae1ac",
   "metadata": {},
   "outputs": [
    {
     "name": "stdout",
     "output_type": "stream",
     "text": [
      "16.660560133957496\n"
     ]
    }
   ],
   "source": [
    "#root mean squared error (RMSE) from Linear Regression\n",
    "y_pred = reg.predict(X_test)\n",
    "print(np.sqrt(metrics.mean_squared_error(y_test, y_pred)))"
   ]
  },
  {
   "cell_type": "code",
   "execution_count": 66,
   "id": "6d327d0b",
   "metadata": {},
   "outputs": [
    {
     "name": "stderr",
     "output_type": "stream",
     "text": [
      "C:\\Users\\Barb\\anaconda3\\lib\\site-packages\\sklearn\\base.py:443: UserWarning: X has feature names, but LinearRegression was fitted without feature names\n",
      "  warnings.warn(\n"
     ]
    },
    {
     "data": {
      "text/plain": [
       "0.3944665256337382"
      ]
     },
     "execution_count": 66,
     "metadata": {},
     "output_type": "execute_result"
    }
   ],
   "source": [
    "reg.score(X_test,y_test)"
   ]
  },
  {
   "cell_type": "code",
   "execution_count": 59,
   "id": "84c606dd",
   "metadata": {},
   "outputs": [
    {
     "data": {
      "text/plain": [
       "array([[12.07424927]])"
      ]
     },
     "execution_count": 59,
     "metadata": {},
     "output_type": "execute_result"
    }
   ],
   "source": [
    "XX = X.values.reshape(-1, len(features))\n",
    "yy = y.values\n",
    "features = ['Black', 'White', 'Hispanic', 'Asian']\n",
    "model = reg.fit(XX,yy)\n",
    "X_pred = np.array([1,0,0,0])\n",
    "X_pred = X_pred.reshape(-1,len(features))\n",
    "model.predict(X_pred)\n",
    "#fig, ax = plt.subplots(figsize=(20,40))\n",
    "#ax.plot(X_pred, y_pred)"
   ]
  },
  {
   "cell_type": "code",
   "execution_count": 60,
   "id": "7812fa7c",
   "metadata": {},
   "outputs": [
    {
     "data": {
      "text/plain": [
       "array([[35.66604614]])"
      ]
     },
     "execution_count": 60,
     "metadata": {},
     "output_type": "execute_result"
    }
   ],
   "source": [
    "X_pred = np.array([0,1,0,0])\n",
    "X_pred = X_pred.reshape(-1,len(features))\n",
    "model.predict(X_pred)"
   ]
  },
  {
   "cell_type": "code",
   "execution_count": 61,
   "id": "8c945f7a",
   "metadata": {},
   "outputs": [
    {
     "data": {
      "text/plain": [
       "array([[15.43966675]])"
      ]
     },
     "execution_count": 61,
     "metadata": {},
     "output_type": "execute_result"
    }
   ],
   "source": [
    "X_pred = np.array([0,0,1,0])\n",
    "X_pred = X_pred.reshape(-1,len(features))\n",
    "model.predict(X_pred)"
   ]
  },
  {
   "cell_type": "code",
   "execution_count": 62,
   "id": "ebc8fc91",
   "metadata": {},
   "outputs": [
    {
     "data": {
      "text/plain": [
       "array([[47.93911743]])"
      ]
     },
     "execution_count": 62,
     "metadata": {},
     "output_type": "execute_result"
    }
   ],
   "source": [
    "X_pred = np.array([0,0,0,1])\n",
    "X_pred = X_pred.reshape(-1,len(features))\n",
    "model.predict(X_pred)"
   ]
  },
  {
   "cell_type": "code",
   "execution_count": 29,
   "id": "abe7ad60",
   "metadata": {
    "scrolled": true
   },
   "outputs": [
    {
     "data": {
      "image/png": "[encoded data removed]",
      "text/plain": [
       "<Figure size 1200x400 with 1 Axes>"
      ]
     },
     "metadata": {},
     "output_type": "display_data"
    }
   ],
   "source": [
    "x = np.arange(50)\n",
    "\n",
    "plt.rcParams[\"figure.figsize\"] = (12,4)\n",
    "plt.plot(x, y_pred[:50], c = \"red\")\n",
    "plt.plot(x, y_test[:50], c = \"blue\")\n",
    "plt.show()"
   ]
  },
  {
   "cell_type": "code",
   "execution_count": 270,
   "id": "bdf7d4f0",
   "metadata": {
    "scrolled": true
   },
   "outputs": [
    {
     "data": {
      "image/png": "[encoded data removed]",
      "text/plain": [
       "<Figure size 640x480 with 1 Axes>"
      ]
     },
     "metadata": {},
     "output_type": "display_data"
    }
   ],
   "source": [
    "df1.plot.scatter('Mean_Scale_Score','Grade')\n",
    "plt.show()"
   ]
  },
  {
   "cell_type": "code",
   "execution_count": 114,
   "id": "f82a385b",
   "metadata": {},
   "outputs": [],
   "source": [
    "dfwhite = df1[(df1.Category == \"White\")]\n",
    "dfblack = df1[(df1.Category == \"Black\")]\n",
    "dfhispanic = df1[(df1.Category == \"Hispanic\")]\n",
    "dfasian = df1[(df1.Category == \"Asian\")]\n"
   ]
  },
  {
   "cell_type": "code",
   "execution_count": 115,
   "id": "d9ef168b",
   "metadata": {
    "scrolled": false
   },
   "outputs": [
    {
     "name": "stderr",
     "output_type": "stream",
     "text": [
      "C:\\Users\\Barb\\AppData\\Local\\Temp\\ipykernel_11348\\1539179161.py:1: SettingWithCopyWarning: \n",
      "A value is trying to be set on a copy of a slice from a DataFrame.\n",
      "Try using .loc[row_indexer,col_indexer] = value instead\n",
      "\n",
      "See the caveats in the documentation: https://pandas.pydata.org/pandas-docs/stable/user_guide/indexing.html#returning-a-view-versus-a-copy\n",
      "  dfwhite[\"Level_4_%\"] = df1[\"Level_4_%\"].astype(float)\n",
      "C:\\Users\\Barb\\AppData\\Local\\Temp\\ipykernel_11348\\1539179161.py:2: SettingWithCopyWarning: \n",
      "A value is trying to be set on a copy of a slice from a DataFrame.\n",
      "Try using .loc[row_indexer,col_indexer] = value instead\n",
      "\n",
      "See the caveats in the documentation: https://pandas.pydata.org/pandas-docs/stable/user_guide/indexing.html#returning-a-view-versus-a-copy\n",
      "  dfasian[\"Level_4_%\"] = df1[\"Level_4_%\"].astype(float)\n",
      "C:\\Users\\Barb\\AppData\\Local\\Temp\\ipykernel_11348\\1539179161.py:3: SettingWithCopyWarning: \n",
      "A value is trying to be set on a copy of a slice from a DataFrame.\n",
      "Try using .loc[row_indexer,col_indexer] = value instead\n",
      "\n",
      "See the caveats in the documentation: https://pandas.pydata.org/pandas-docs/stable/user_guide/indexing.html#returning-a-view-versus-a-copy\n",
      "  dfhispanic[\"Level_4_%\"] = df1[\"Level_4_%\"].astype(float)\n",
      "C:\\Users\\Barb\\AppData\\Local\\Temp\\ipykernel_11348\\1539179161.py:4: SettingWithCopyWarning: \n",
      "A value is trying to be set on a copy of a slice from a DataFrame.\n",
      "Try using .loc[row_indexer,col_indexer] = value instead\n",
      "\n",
      "See the caveats in the documentation: https://pandas.pydata.org/pandas-docs/stable/user_guide/indexing.html#returning-a-view-versus-a-copy\n",
      "  dfblack[\"Level_4_%\"] = df1[\"Level_4_%\"].astype(float)\n",
      "C:\\Users\\Barb\\AppData\\Local\\Temp\\ipykernel_11348\\1539179161.py:5: SettingWithCopyWarning: \n",
      "A value is trying to be set on a copy of a slice from a DataFrame.\n",
      "Try using .loc[row_indexer,col_indexer] = value instead\n",
      "\n",
      "See the caveats in the documentation: https://pandas.pydata.org/pandas-docs/stable/user_guide/indexing.html#returning-a-view-versus-a-copy\n",
      "  dfwhite[\"Level_1_%\"] = df1[\"Level_4_%\"].astype(float)\n",
      "C:\\Users\\Barb\\AppData\\Local\\Temp\\ipykernel_11348\\1539179161.py:6: SettingWithCopyWarning: \n",
      "A value is trying to be set on a copy of a slice from a DataFrame.\n",
      "Try using .loc[row_indexer,col_indexer] = value instead\n",
      "\n",
      "See the caveats in the documentation: https://pandas.pydata.org/pandas-docs/stable/user_guide/indexing.html#returning-a-view-versus-a-copy\n",
      "  dfasian[\"Level_1_%\"] = df1[\"Level_4_%\"].astype(float)\n",
      "C:\\Users\\Barb\\AppData\\Local\\Temp\\ipykernel_11348\\1539179161.py:7: SettingWithCopyWarning: \n",
      "A value is trying to be set on a copy of a slice from a DataFrame.\n",
      "Try using .loc[row_indexer,col_indexer] = value instead\n",
      "\n",
      "See the caveats in the documentation: https://pandas.pydata.org/pandas-docs/stable/user_guide/indexing.html#returning-a-view-versus-a-copy\n",
      "  dfhispanic[\"Level_1_%\"] = df1[\"Level_4_%\"].astype(float)\n",
      "C:\\Users\\Barb\\AppData\\Local\\Temp\\ipykernel_11348\\1539179161.py:8: SettingWithCopyWarning: \n",
      "A value is trying to be set on a copy of a slice from a DataFrame.\n",
      "Try using .loc[row_indexer,col_indexer] = value instead\n",
      "\n",
      "See the caveats in the documentation: https://pandas.pydata.org/pandas-docs/stable/user_guide/indexing.html#returning-a-view-versus-a-copy\n",
      "  dfblack[\"Level_1_%\"] = df1[\"Level_4_%\"].astype(float)\n",
      "C:\\Users\\Barb\\AppData\\Local\\Temp\\ipykernel_11348\\1539179161.py:9: SettingWithCopyWarning: \n",
      "A value is trying to be set on a copy of a slice from a DataFrame.\n",
      "Try using .loc[row_indexer,col_indexer] = value instead\n",
      "\n",
      "See the caveats in the documentation: https://pandas.pydata.org/pandas-docs/stable/user_guide/indexing.html#returning-a-view-versus-a-copy\n",
      "  dfhispanic[\"Level_3+4_%\"] = df1[\"Level_4_%\"].astype(float)\n",
      "C:\\Users\\Barb\\AppData\\Local\\Temp\\ipykernel_11348\\1539179161.py:10: SettingWithCopyWarning: \n",
      "A value is trying to be set on a copy of a slice from a DataFrame.\n",
      "Try using .loc[row_indexer,col_indexer] = value instead\n",
      "\n",
      "See the caveats in the documentation: https://pandas.pydata.org/pandas-docs/stable/user_guide/indexing.html#returning-a-view-versus-a-copy\n",
      "  dfblack[\"Level_3+4_%\"] = df1[\"Level_4_%\"].astype(float)\n",
      "C:\\Users\\Barb\\AppData\\Local\\Temp\\ipykernel_11348\\1539179161.py:11: SettingWithCopyWarning: \n",
      "A value is trying to be set on a copy of a slice from a DataFrame.\n",
      "Try using .loc[row_indexer,col_indexer] = value instead\n",
      "\n",
      "See the caveats in the documentation: https://pandas.pydata.org/pandas-docs/stable/user_guide/indexing.html#returning-a-view-versus-a-copy\n",
      "  dfhispanic[\"Level_2_%\"] = df1[\"Level_4_%\"].astype(float)\n",
      "C:\\Users\\Barb\\AppData\\Local\\Temp\\ipykernel_11348\\1539179161.py:12: SettingWithCopyWarning: \n",
      "A value is trying to be set on a copy of a slice from a DataFrame.\n",
      "Try using .loc[row_indexer,col_indexer] = value instead\n",
      "\n",
      "See the caveats in the documentation: https://pandas.pydata.org/pandas-docs/stable/user_guide/indexing.html#returning-a-view-versus-a-copy\n",
      "  dfblack[\"Level_2_%\"] = df1[\"Level_4_%\"].astype(float)\n",
      "C:\\Users\\Barb\\AppData\\Local\\Temp\\ipykernel_11348\\1539179161.py:13: SettingWithCopyWarning: \n",
      "A value is trying to be set on a copy of a slice from a DataFrame.\n",
      "Try using .loc[row_indexer,col_indexer] = value instead\n",
      "\n",
      "See the caveats in the documentation: https://pandas.pydata.org/pandas-docs/stable/user_guide/indexing.html#returning-a-view-versus-a-copy\n",
      "  dfhispanic[\"Level_3_%\"] = df1[\"Level_4_%\"].astype(float)\n",
      "C:\\Users\\Barb\\AppData\\Local\\Temp\\ipykernel_11348\\1539179161.py:14: SettingWithCopyWarning: \n",
      "A value is trying to be set on a copy of a slice from a DataFrame.\n",
      "Try using .loc[row_indexer,col_indexer] = value instead\n",
      "\n",
      "See the caveats in the documentation: https://pandas.pydata.org/pandas-docs/stable/user_guide/indexing.html#returning-a-view-versus-a-copy\n",
      "  dfblack[\"Level_3_%\"] = df1[\"Level_4_%\"].astype(float)\n"
     ]
    },
    {
     "data": {
      "image/png": "[encoded data removed]",
      "text/plain": [
       "<Figure size 1200x400 with 1 Axes>"
      ]
     },
     "metadata": {},
     "output_type": "display_data"
    }
   ],
   "source": [
    "dfwhite[\"Level_4_%\"] = df1[\"Level_4_%\"].astype(float)\n",
    "dfasian[\"Level_4_%\"] = df1[\"Level_4_%\"].astype(float)\n",
    "dfhispanic[\"Level_4_%\"] = df1[\"Level_4_%\"].astype(float)\n",
    "dfblack[\"Level_4_%\"] = df1[\"Level_4_%\"].astype(float)\n",
    "dfwhite[\"Level_1_%\"] = df1[\"Level_4_%\"].astype(float)\n",
    "dfasian[\"Level_1_%\"] = df1[\"Level_4_%\"].astype(float)\n",
    "dfhispanic[\"Level_1_%\"] = df1[\"Level_4_%\"].astype(float)\n",
    "dfblack[\"Level_1_%\"] = df1[\"Level_4_%\"].astype(float)\n",
    "dfhispanic[\"Level_3+4_%\"] = df1[\"Level_4_%\"].astype(float)\n",
    "dfblack[\"Level_3+4_%\"] = df1[\"Level_4_%\"].astype(float)\n",
    "dfhispanic[\"Level_2_%\"] = df1[\"Level_4_%\"].astype(float)\n",
    "dfblack[\"Level_2_%\"] = df1[\"Level_4_%\"].astype(float)\n",
    "dfhispanic[\"Level_3_%\"] = df1[\"Level_4_%\"].astype(float)\n",
    "dfblack[\"Level_3_%\"] = df1[\"Level_4_%\"].astype(float)\n",
    "\n",
    "\n",
    "plt.hist(dfwhite['Level_4_%'], bins=100, color = 'blue', edgecolor= 'black')\n",
    "plt.title('White 4 Score %')\n",
    "\n",
    "plt.show()"
   ]
  },
  {
   "cell_type": "code",
   "execution_count": 324,
   "id": "dda91f1b",
   "metadata": {},
   "outputs": [
    {
     "data": {
      "image/png": "[encoded data removed]",
      "text/plain": [
       "<Figure size 1200x400 with 1 Axes>"
      ]
     },
     "metadata": {},
     "output_type": "display_data"
    }
   ],
   "source": [
    "plt.hist(dfwhite['Level_1_%'], bins=100, color = 'blue', edgecolor= 'black')\n",
    "plt.title('White 1 Score %')\n",
    "plt.show()"
   ]
  },
  {
   "cell_type": "code",
   "execution_count": 113,
   "id": "d6950297",
   "metadata": {},
   "outputs": [
    {
     "ename": "NameError",
     "evalue": "name 'dfblack' is not defined",
     "output_type": "error",
     "traceback": [
      "\u001b[1;31m---------------------------------------------------------------------------\u001b[0m",
      "\u001b[1;31mNameError\u001b[0m                                 Traceback (most recent call last)",
      "\u001b[1;32m~\\AppData\\Local\\Temp\\ipykernel_11348\\2809559306.py\u001b[0m in \u001b[0;36m<module>\u001b[1;34m\u001b[0m\n\u001b[1;32m----> 1\u001b[1;33m \u001b[0mplt\u001b[0m\u001b[1;33m.\u001b[0m\u001b[0mhist\u001b[0m\u001b[1;33m(\u001b[0m\u001b[0mdfblack\u001b[0m\u001b[1;33m[\u001b[0m\u001b[1;34m'Level_4_%'\u001b[0m\u001b[1;33m]\u001b[0m\u001b[1;33m,\u001b[0m \u001b[0mbins\u001b[0m\u001b[1;33m=\u001b[0m\u001b[1;36m100\u001b[0m\u001b[1;33m,\u001b[0m \u001b[0mcolor\u001b[0m \u001b[1;33m=\u001b[0m \u001b[1;34m'red'\u001b[0m\u001b[1;33m,\u001b[0m \u001b[0medgecolor\u001b[0m\u001b[1;33m=\u001b[0m \u001b[1;34m'black'\u001b[0m\u001b[1;33m)\u001b[0m\u001b[1;33m\u001b[0m\u001b[1;33m\u001b[0m\u001b[0m\n\u001b[0m\u001b[0;32m      2\u001b[0m \u001b[0mplt\u001b[0m\u001b[1;33m.\u001b[0m\u001b[0mtitle\u001b[0m\u001b[1;33m(\u001b[0m\u001b[1;34m'Black 4 Score %'\u001b[0m\u001b[1;33m)\u001b[0m\u001b[1;33m\u001b[0m\u001b[1;33m\u001b[0m\u001b[0m\n\u001b[0;32m      3\u001b[0m \u001b[0mplt\u001b[0m\u001b[1;33m.\u001b[0m\u001b[0mshow\u001b[0m\u001b[1;33m(\u001b[0m\u001b[1;33m)\u001b[0m\u001b[1;33m\u001b[0m\u001b[1;33m\u001b[0m\u001b[0m\n",
      "\u001b[1;31mNameError\u001b[0m: name 'dfblack' is not defined"
     ]
    }
   ],
   "source": [
    "plt.hist(dfblack['Level_4_%'], bins=100, color = 'red', edgecolor= 'black')\n",
    "plt.title('Black 4 Score %')\n",
    "plt.show()"
   ]
  },
  {
   "cell_type": "code",
   "execution_count": 326,
   "id": "b6940506",
   "metadata": {},
   "outputs": [
    {
     "data": {
      "image/png": "[encoded data removed]",
      "text/plain": [
       "<Figure size 1200x400 with 1 Axes>"
      ]
     },
     "metadata": {},
     "output_type": "display_data"
    }
   ],
   "source": [
    "plt.hist(dfblack['Level_3+4_%'], bins=100, color = 'red', edgecolor= 'black')\n",
    "plt.title('Black 3+4 Score %')\n",
    "plt.show()"
   ]
  },
  {
   "cell_type": "code",
   "execution_count": 116,
   "id": "d2d5cd97",
   "metadata": {},
   "outputs": [
    {
     "data": {
      "image/png": "[encoded data removed]",
      "text/plain": [
       "<Figure size 1200x400 with 1 Axes>"
      ]
     },
     "metadata": {},
     "output_type": "display_data"
    }
   ],
   "source": [
    "plt.hist(dfblack['Level_3_%'], bins=100, color = 'red', edgecolor= 'black')\n",
    "plt.title('Black 3 Score %')\n",
    "plt.show()"
   ]
  },
  {
   "cell_type": "code",
   "execution_count": 117,
   "id": "fd67ee57",
   "metadata": {},
   "outputs": [
    {
     "data": {
      "image/png": "[encoded data removed]",
      "text/plain": [
       "<Figure size 1200x400 with 1 Axes>"
      ]
     },
     "metadata": {},
     "output_type": "display_data"
    }
   ],
   "source": [
    "plt.hist(dfblack['Level_2_%'], bins=100, color = 'red', edgecolor= 'black')\n",
    "plt.title('Black 2 Score %')\n",
    "plt.show()"
   ]
  },
  {
   "cell_type": "code",
   "execution_count": 329,
   "id": "6b50bf78",
   "metadata": {},
   "outputs": [
    {
     "data": {
      "image/png": "[encoded data removed]",
      "text/plain": [
       "<Figure size 1200x400 with 1 Axes>"
      ]
     },
     "metadata": {},
     "output_type": "display_data"
    }
   ],
   "source": [
    "plt.hist(dfblack['Level_1_%'], bins=100, color = 'red', edgecolor= 'black')\n",
    "plt.title('Black 1 Score %')\n",
    "plt.show()"
   ]
  },
  {
   "cell_type": "code",
   "execution_count": 118,
   "id": "ed2e1c16",
   "metadata": {},
   "outputs": [
    {
     "data": {
      "image/png": "[encoded data removed]",
      "text/plain": [
       "<Figure size 1200x400 with 1 Axes>"
      ]
     },
     "metadata": {},
     "output_type": "display_data"
    }
   ],
   "source": [
    "plt.hist(dfasian['Level_4_%'], bins=100, color = 'blue', edgecolor= 'black')\n",
    "plt.title('Asian 4 Score %')\n",
    "plt.show()"
   ]
  },
  {
   "cell_type": "code",
   "execution_count": 119,
   "id": "40a05549",
   "metadata": {},
   "outputs": [
    {
     "data": {
      "image/png": "[encoded data removed]",
      "text/plain": [
       "<Figure size 1200x400 with 1 Axes>"
      ]
     },
     "metadata": {},
     "output_type": "display_data"
    }
   ],
   "source": [
    "plt.hist(dfasian['Level_1_%'], bins=100, color = 'blue', edgecolor= 'black')\n",
    "plt.title('Asian 1 Score %')\n",
    "plt.show()"
   ]
  },
  {
   "cell_type": "code",
   "execution_count": 332,
   "id": "54815873",
   "metadata": {},
   "outputs": [
    {
     "data": {
      "image/png": "[encoded data removed]",
      "text/plain": [
       "<Figure size 1200x400 with 1 Axes>"
      ]
     },
     "metadata": {},
     "output_type": "display_data"
    }
   ],
   "source": [
    "plt.hist(dfhispanic['Level_4_%'], bins=100, color = 'green', edgecolor= 'black')\n",
    "plt.title('Hispanic 4 Score %')\n",
    "plt.show()"
   ]
  },
  {
   "cell_type": "code",
   "execution_count": 333,
   "id": "6ff9cc04",
   "metadata": {},
   "outputs": [
    {
     "data": {
      "image/png": "[encoded data removed]",
      "text/plain": [
       "<Figure size 1200x400 with 1 Axes>"
      ]
     },
     "metadata": {},
     "output_type": "display_data"
    }
   ],
   "source": [
    "plt.hist(dfhispanic['Level_3+4_%'], bins=100, color = 'green', edgecolor= 'black')\n",
    "plt.title('Hispanic 3+4 Score %')\n",
    "plt.show()"
   ]
  },
  {
   "cell_type": "code",
   "execution_count": 334,
   "id": "7bd55fc9",
   "metadata": {},
   "outputs": [
    {
     "data": {
      "image/png": "[encoded data removed]",
      "text/plain": [
       "<Figure size 1200x400 with 1 Axes>"
      ]
     },
     "metadata": {},
     "output_type": "display_data"
    }
   ],
   "source": [
    "plt.hist(dfhispanic['Level_3_%'], bins=100, color = 'green', edgecolor= 'black')\n",
    "plt.title('Hispanic 3 Score %')\n",
    "plt.show()"
   ]
  },
  {
   "cell_type": "code",
   "execution_count": 335,
   "id": "1d354db6",
   "metadata": {},
   "outputs": [
    {
     "data": {
      "image/png": "[encoded data removed]",
      "text/plain": [
       "<Figure size 1200x400 with 1 Axes>"
      ]
     },
     "metadata": {},
     "output_type": "display_data"
    }
   ],
   "source": [
    "plt.hist(dfhispanic['Level_2_%'], bins=100, color = 'green', edgecolor= 'black')\n",
    "plt.title('Hispanic 2 Score %')\n",
    "plt.show()"
   ]
  },
  {
   "cell_type": "code",
   "execution_count": 336,
   "id": "74089691",
   "metadata": {},
   "outputs": [
    {
     "data": {
      "image/png": "[encoded data removed]",
      "text/plain": [
       "<Figure size 1200x400 with 1 Axes>"
      ]
     },
     "metadata": {},
     "output_type": "display_data"
    }
   ],
   "source": [
    "plt.hist(dfhispanic['Level_1_%'], bins=100, color = 'green', edgecolor= 'black')\n",
    "plt.title('Hispanic 1 Score %')\n",
    "plt.show()"
   ]
  },
  {
   "cell_type": "code",
   "execution_count": 109,
   "id": "2cdb081d",
   "metadata": {},
   "outputs": [],
   "source": [
    "X = df1[['Year','Grade','Black','White','Hispanic','Asian']]\n",
    "y = df1[['Mean_Scale_Score']]\n",
    "\n",
    "import seaborn as sns\n",
    "from sklearn.model_selection import train_test_split\n",
    "X_train, X_test, y_train, y_test = train_test_split(X, y, test_size=0.40, random_state=123)"
   ]
  },
  {
   "cell_type": "code",
   "execution_count": 110,
   "id": "c9e3515f",
   "metadata": {},
   "outputs": [
    {
     "name": "stdout",
     "output_type": "stream",
     "text": [
      "[[  4.27576306  -4.82193788 -16.28524137   8.92714168 -12.07926169\n",
      "   19.43736137]]\n",
      "[-7882.8891821]\n"
     ]
    },
    {
     "data": {
      "text/plain": [
       "0.4757815516497643"
      ]
     },
     "execution_count": 110,
     "metadata": {},
     "output_type": "execute_result"
    }
   ],
   "source": [
    "reg = LinearRegression() \n",
    "reg.fit(X_train, y_train) \n",
    "\n",
    "print(reg.coef_)\n",
    "print(reg.intercept_)\n",
    "\n",
    "reg.score(X_test,y_test)"
   ]
  },
  {
   "cell_type": "code",
   "execution_count": null,
   "id": "da6d5596",
   "metadata": {},
   "outputs": [],
   "source": [
    "## This dataset took a lot of cleaning up to use but it did find that a higher percent of Asians score higher on the testing done in New York schools"
   ]
  }
 ],
 "metadata": {
  "kernelspec": {
   "display_name": "Python 3 (ipykernel)",
   "language": "python",
   "name": "python3"
  },
  "language_info": {
   "codemirror_mode": {
    "name": "ipython",
    "version": 3
   },
   "file_extension": ".py",
   "mimetype": "text/x-python",
   "name": "python",
   "nbconvert_exporter": "python",
   "pygments_lexer": "ipython3",
   "version": "3.9.12"
  }
 },
 "nbformat": 4,
 "nbformat_minor": 5
}
